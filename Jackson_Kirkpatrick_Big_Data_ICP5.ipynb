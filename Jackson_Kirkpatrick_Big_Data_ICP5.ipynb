{
  "nbformat": 4,
  "nbformat_minor": 0,
  "metadata": {
    "colab": {
      "provenance": [],
      "mount_file_id": "1w6B_EVI4-vlPEcbg6cBxzVqJ02-doMay",
      "authorship_tag": "ABX9TyO3TtA+W1uXYB5D6gpOZ/Ta",
      "include_colab_link": true
    },
    "kernelspec": {
      "name": "python3",
      "display_name": "Python 3"
    },
    "language_info": {
      "name": "python"
    }
  },
  "cells": [
    {
      "cell_type": "markdown",
      "metadata": {
        "id": "view-in-github",
        "colab_type": "text"
      },
      "source": [
        "<a href=\"https://colab.research.google.com/github/Kirknasty54/Jackson_Kirkpatrick_ICP5/blob/main/Jackson_Kirkpatrick_Big_Data_ICP5.ipynb\" target=\"_parent\"><img src=\"https://colab.research.google.com/assets/colab-badge.svg\" alt=\"Open In Colab\"/></a>"
      ]
    },
    {
      "cell_type": "code",
      "execution_count": null,
      "metadata": {
        "colab": {
          "base_uri": "https://localhost:8080/"
        },
        "id": "pliYyAxZYVOl",
        "outputId": "84f1dc67-ec38-4679-8241-6faacca7492d"
      },
      "outputs": [
        {
          "output_type": "stream",
          "name": "stdout",
          "text": [
            "Drive already mounted at /content/drive; to attempt to forcibly remount, call drive.mount(\"/content/drive\", force_remount=True).\n"
          ]
        }
      ],
      "source": [
        "#import google drive\n",
        "from google.colab import drive\n",
        "drive.mount(\"/content/drive\")"
      ]
    },
    {
      "cell_type": "code",
      "source": [
        "#import the needed libaries/modules\n",
        "import pandas as pd\n",
        "import sklearn as skl\n",
        "import matplotlib.pyplot as plt\n",
        "from sklearn import svm\n",
        "from sklearn import metrics\n",
        "%matplotlib inline\n",
        "from sklearn.model_selection import train_test_split\n",
        "from sklearn.metrics import classification_report\n",
        "from sklearn.neural_network import MLPClassifier"
      ],
      "metadata": {
        "id": "Gk_hcCq8bXhm"
      },
      "execution_count": null,
      "outputs": []
    },
    {
      "cell_type": "code",
      "source": [
        "path_to_data = \"/content/drive/MyDrive/glass.csv\"\n",
        "df = pd.read_csv(path_to_data)\n",
        "print(df)"
      ],
      "metadata": {
        "colab": {
          "base_uri": "https://localhost:8080/"
        },
        "id": "It1rcp8Fc99s",
        "outputId": "c5e7858c-2ec4-4b88-8556-c518dcc9b739"
      },
      "execution_count": null,
      "outputs": [
        {
          "output_type": "stream",
          "name": "stdout",
          "text": [
            "          RI     Na    Mg    Al     Si     K    Ca    Ba   Fe  Type\n",
            "0    1.52101  13.64  4.49  1.10  71.78  0.06  8.75  0.00  0.0     1\n",
            "1    1.51761  13.89  3.60  1.36  72.73  0.48  7.83  0.00  0.0     1\n",
            "2    1.51618  13.53  3.55  1.54  72.99  0.39  7.78  0.00  0.0     1\n",
            "3    1.51766  13.21  3.69  1.29  72.61  0.57  8.22  0.00  0.0     1\n",
            "4    1.51742  13.27  3.62  1.24  73.08  0.55  8.07  0.00  0.0     1\n",
            "..       ...    ...   ...   ...    ...   ...   ...   ...  ...   ...\n",
            "209  1.51623  14.14  0.00  2.88  72.61  0.08  9.18  1.06  0.0     7\n",
            "210  1.51685  14.92  0.00  1.99  73.06  0.00  8.40  1.59  0.0     7\n",
            "211  1.52065  14.36  0.00  2.02  73.42  0.00  8.44  1.64  0.0     7\n",
            "212  1.51651  14.38  0.00  1.94  73.61  0.00  8.48  1.57  0.0     7\n",
            "213  1.51711  14.23  0.00  2.08  73.36  0.00  8.62  1.67  0.0     7\n",
            "\n",
            "[214 rows x 10 columns]\n"
          ]
        }
      ]
    },
    {
      "cell_type": "code",
      "source": [
        "#SVM model\n",
        "y = df['Type'].values\n",
        "x = df.drop('Type', axis=1).values\n",
        "\n",
        "x_train, x_test, y_train, y_test = train_test_split(x, y, test_size = 0.3, random_state=109)\n",
        "\n",
        "clf = svm.SVC(kernel = 'linear')\n",
        "clf.fit(x_train, y_train)\n",
        "y_pred = clf.predict(x_test)\n",
        "print(\"Accuracy: \", metrics.accuracy_score(y_test, y_pred))\n",
        "print(classification_report(y_test, y_pred, zero_division=0))"
      ],
      "metadata": {
        "colab": {
          "base_uri": "https://localhost:8080/"
        },
        "id": "Esm4B-WjiSJG",
        "outputId": "e1d764c7-3436-4e27-b051-145dbd796c00"
      },
      "execution_count": null,
      "outputs": [
        {
          "output_type": "stream",
          "name": "stdout",
          "text": [
            "Accuracy:  0.676923076923077\n",
            "              precision    recall  f1-score   support\n",
            "\n",
            "           1       0.60      0.71      0.65        21\n",
            "           2       0.65      0.71      0.68        24\n",
            "           3       0.00      0.00      0.00         4\n",
            "           5       0.60      1.00      0.75         3\n",
            "           6       1.00      0.50      0.67         2\n",
            "           7       1.00      0.73      0.84        11\n",
            "\n",
            "    accuracy                           0.68        65\n",
            "   macro avg       0.64      0.61      0.60        65\n",
            "weighted avg       0.66      0.68      0.66        65\n",
            "\n"
          ]
        }
      ]
    },
    {
      "cell_type": "code",
      "source": [
        "#Multi-layer perception method\n",
        "mlp = MLPClassifier(hidden_layer_sizes=(8,8,8), activation='relu', solver='adam', max_iter=500)\n",
        "mlp.fit(x_train, y_train)\n",
        "\n",
        "predict_train = mlp.predict(x_train)\n",
        "predict_test = mlp.predict(x_test)\n",
        "y_pred = mlp.predict(x_test)\n",
        "print(\"Accuracy: \", metrics.accuracy_score(y_test, predict_test))\n",
        "print(classification_report(y_train, predict_train, zero_division=0))"
      ],
      "metadata": {
        "colab": {
          "base_uri": "https://localhost:8080/"
        },
        "id": "iSe0qMGB5JWN",
        "outputId": "f9f108c5-63fc-4628-a99c-e75f4ba35cda"
      },
      "execution_count": null,
      "outputs": [
        {
          "output_type": "stream",
          "name": "stdout",
          "text": [
            "Accuracy:  0.36923076923076925\n",
            "              precision    recall  f1-score   support\n",
            "\n",
            "           1       0.00      0.00      0.00        49\n",
            "           2       0.35      1.00      0.52        52\n",
            "           3       0.00      0.00      0.00        13\n",
            "           5       0.00      0.00      0.00        10\n",
            "           6       0.00      0.00      0.00         7\n",
            "           7       0.00      0.00      0.00        18\n",
            "\n",
            "    accuracy                           0.35       149\n",
            "   macro avg       0.06      0.17      0.09       149\n",
            "weighted avg       0.12      0.35      0.18       149\n",
            "\n"
          ]
        },
        {
          "output_type": "stream",
          "name": "stderr",
          "text": [
            "/usr/local/lib/python3.10/dist-packages/sklearn/neural_network/_multilayer_perceptron.py:686: ConvergenceWarning: Stochastic Optimizer: Maximum iterations (500) reached and the optimization hasn't converged yet.\n",
            "  warnings.warn(\n",
            "/usr/local/lib/python3.10/dist-packages/sklearn/metrics/_classification.py:1344: UndefinedMetricWarning: Precision and F-score are ill-defined and being set to 0.0 in labels with no predicted samples. Use `zero_division` parameter to control this behavior.\n",
            "  _warn_prf(average, modifier, msg_start, len(result))\n",
            "/usr/local/lib/python3.10/dist-packages/sklearn/metrics/_classification.py:1344: UndefinedMetricWarning: Precision and F-score are ill-defined and being set to 0.0 in labels with no predicted samples. Use `zero_division` parameter to control this behavior.\n",
            "  _warn_prf(average, modifier, msg_start, len(result))\n",
            "/usr/local/lib/python3.10/dist-packages/sklearn/metrics/_classification.py:1344: UndefinedMetricWarning: Precision and F-score are ill-defined and being set to 0.0 in labels with no predicted samples. Use `zero_division` parameter to control this behavior.\n",
            "  _warn_prf(average, modifier, msg_start, len(result))\n"
          ]
        }
      ]
    }
  ]
}